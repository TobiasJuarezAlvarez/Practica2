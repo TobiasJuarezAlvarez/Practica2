{
 "cells": [
  {
   "cell_type": "markdown",
   "metadata": {},
   "source": [
    "# Importamos el archivo funciones \n",
    "\n",
    "- Definimos el sistema de puntuacion y una lista de diccionarios que cada uno representa las rondas y las estadisticas de las mismas"
   ]
  },
  {
   "cell_type": "code",
   "execution_count": 5,
   "metadata": {},
   "outputs": [],
   "source": [
    "import sys\n",
    "import os\n",
    "\n",
    "sys.path.append(os.path.abspath('../src'))  # Ajusta la ruta si es necesario\n",
    "\n",
    "from Funciones import procesar_actualizar_rankings\n",
    "\n",
    "\n",
    "\n",
    "# Sistema de puntuación\n",
    "puntos_kill = 3\n",
    "puntos_assist = 1\n",
    "puntos_death= -1\n",
    "\n",
    "# Datos de las rondas\n",
    "rounds = [\n",
    "    {\n",
    "        'Shadow': {'kills': 2, 'assists': 1, 'deaths': True},\n",
    "        'Blaze': {'kills': 1, 'assists': 0, 'deaths': False},\n",
    "        'Viper': {'kills': 1, 'assists': 2, 'deaths': True},\n",
    "        'Frost': {'kills': 0, 'assists': 1, 'deaths': False},\n",
    "        'Reaper': {'kills': 1, 'assists': 1, 'deaths': False}\n",
    "    },\n",
    "    {\n",
    "        'Shadow': {'kills': 0, 'assists': 2, 'deaths': False},\n",
    "        'Blaze': {'kills': 2, 'assists': 0, 'deaths': True},\n",
    "        'Viper': {'kills': 1, 'assists': 1, 'deaths': False},\n",
    "        'Frost': {'kills': 2, 'assists': 1, 'deaths': True},\n",
    "        'Reaper': {'kills': 0, 'assists': 1, 'deaths': False}\n",
    "    },\n",
    "    {\n",
    "        'Shadow': {'kills': 1, 'assists': 0, 'deaths': False},\n",
    "        'Blaze': {'kills': 2, 'assists': 2, 'deaths': True},\n",
    "        'Viper': {'kills': 1, 'assists': 1, 'deaths': True},\n",
    "        'Frost': {'kills': 0, 'assists': 1, 'deaths': False},\n",
    "        'Reaper': {'kills': 1, 'assists': 1, 'deaths': False}\n",
    "    },\n",
    "    {\n",
    "        'Shadow': {'kills': 2, 'assists': 1, 'deaths': False},\n",
    "        'Blaze': {'kills': 1, 'assists': 0, 'deaths': True},\n",
    "        'Viper': {'kills': 0, 'assists': 2, 'deaths': False},\n",
    "        'Frost': {'kills': 1, 'assists': 1, 'deaths': True},\n",
    "        'Reaper': {'kills': 1, 'assists': 1, 'deaths': False}\n",
    "    },\n",
    "    {\n",
    "        'Shadow': {'kills': 1, 'assists': 2, 'deaths': True},\n",
    "        'Blaze': {'kills': 0, 'assists': 1, 'deaths': False},\n",
    "        'Viper': {'kills': 2, 'assists': 0, 'deaths': True},\n",
    "        'Frost': {'kills': 1, 'assists': 1, 'deaths': False},\n",
    "        'Reaper': {'kills': 1, 'assists': 1, 'deaths': True}\n",
    "    }\n",
    "]\n"
   ]
  },
  {
   "cell_type": "markdown",
   "metadata": {},
   "source": [
    "## Ejecutamos la funcion procesar_actualizar_rankings para comenzar la partida y mostrar las rankings"
   ]
  },
  {
   "cell_type": "code",
   "execution_count": 6,
   "metadata": {},
   "outputs": [
    {
     "name": "stdout",
     "output_type": "stream",
     "text": [
      "\n",
      "Ranking ronda 1:\n",
      "Jugador Kills   Asistencias   Muertes     MVPs    Puntos    \n",
      "------------------------------------------------------------\n",
      "Shadow    2           1           1         1       6       \n",
      "Viper     1           2           1         0       4       \n",
      "Reaper    1           1           0         0       4       \n",
      "Blaze     1           0           0         0       3       \n",
      "Frost     0           1           0         0       1       \n",
      "------------------------------------------------------------\n",
      "\n",
      "Ranking ronda 2:\n",
      "Jugador Kills   Asistencias   Muertes     MVPs    Puntos    \n",
      "------------------------------------------------------------\n",
      "Shadow    2           3           1         1       8       \n",
      "Blaze     3           0           1         0       8       \n",
      "Viper     2           3           1         0       8       \n",
      "Frost     2           2           1         1       7       \n",
      "Reaper    1           2           0         0       5       \n",
      "------------------------------------------------------------\n",
      "\n",
      "Ranking ronda 3:\n",
      "Jugador Kills   Asistencias   Muertes     MVPs    Puntos    \n",
      "------------------------------------------------------------\n",
      "Blaze     5           2           2         1       15      \n",
      "Shadow    3           3           1         1       11      \n",
      "Viper     3           4           2         0       11      \n",
      "Reaper    2           3           0         0       9       \n",
      "Frost     2           3           1         1       8       \n",
      "------------------------------------------------------------\n",
      "\n",
      "Ranking ronda 4:\n",
      "Jugador Kills   Asistencias   Muertes     MVPs    Puntos    \n",
      "------------------------------------------------------------\n",
      "Shadow    5           4           1         2       18      \n",
      "Blaze     6           2           3         1       17      \n",
      "Viper     3           6           2         0       13      \n",
      "Reaper    3           4           0         0       13      \n",
      "Frost     3           4           2         1       11      \n",
      "------------------------------------------------------------\n",
      "\n",
      "Ranking ronda 5 y ranking final:\n",
      "Jugador Kills   Asistencias   Muertes     MVPs    Puntos    \n",
      "------------------------------------------------------------\n",
      "Shadow    6           6           2         2       22      \n",
      "Blaze     6           3           3         1       18      \n",
      "Viper     5           6           3         1       18      \n",
      "Reaper    4           5           1         0       16      \n",
      "Frost     4           5           2         1       15      \n",
      "------------------------------------------------------------\n"
     ]
    }
   ],
   "source": [
    "procesar_actualizar_rankings(rounds, puntos_kill, puntos_assist, puntos_death)"
   ]
  },
  {
   "cell_type": "code",
   "execution_count": null,
   "metadata": {},
   "outputs": [],
   "source": []
  }
 ],
 "metadata": {
  "kernelspec": {
   "display_name": "Python 3",
   "language": "python",
   "name": "python3"
  },
  "language_info": {
   "codemirror_mode": {
    "name": "ipython",
    "version": 3
   },
   "file_extension": ".py",
   "mimetype": "text/x-python",
   "name": "python",
   "nbconvert_exporter": "python",
   "pygments_lexer": "ipython3",
   "version": "3.12.9"
  }
 },
 "nbformat": 4,
 "nbformat_minor": 2
}
